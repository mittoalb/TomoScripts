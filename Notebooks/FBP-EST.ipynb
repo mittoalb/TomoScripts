import numpy as np
import matplotlib.pyplot as plt
from skimage.transform import radon, iradon
from scipy.ndimage import rotate
from skimage.draw import disk

def EST_Angles(num_projections):
    """
    Generate projection angles that are equally spaced in Fourier space.

    Parameters:
    - num_projections: int, number of projections to generate.

    Returns:
    - theta: 1D array, the projection angles.
    """
    return np.arcsin(np.linspace(-1, 1, num_projections)) * 180 / np.pi

def make_phantom(size, num_disks):
    """
    Create a foam-like phantom with multiple disks of varying sizes and intensities.

    Parameters:
    - size: int, the size (height and width) of the phantom image.
    - num_disks: int, the number of disks to generate.

    Returns:
    - phantom: 2D array, the generated phantom image.
    """
    phantom = np.zeros((size, size))

    rng = np.random.default_rng()
    for _ in range(num_disks):
        # Random position
        x, y = rng.integers(0, size, size=2)
        # Random radius
        radius = rng.integers(5, size // 10)
        # Random intensity
        intensity = rng.random()

        rr, cc = disk((x, y), radius, shape=phantom.shape)
        phantom[rr, cc] += intensity
        phantom = np.clip(phantom, 0, 1)  # Ensure intensity stays within [0, 1]

    return phantom

def EST_reco(sinogram, theta, num_iterations=200, tolerance=1e-5, learning_rate=0.00005):
    """
    Perform Equally Sloped Tomography (EST) reconstruction using simple gradient descent.

    Parameters:
    - sinogram: 2D array, the sinogram data (projections).
    - theta: 1D array, the projection angles.
    - num_iterations: int, number of iterations for the EST algorithm.
    - tolerance: float, tolerance for early stopping based on maximum error change.
    - learning_rate: float, step size for the updates.

    Returns:
    - reconstructed_image: 2D array, the reconstructed image.
    """
    num_projections, num_detectors = sinogram.shape

    # Initial guess using Filtered Back Projection (FBP)
    initial_guess = iradon(np.rot90(sinogram, -1), theta=theta, circle=True)
    estimated_image = initial_guess.copy()

    previous_error = np.inf

    for iteration in range(num_iterations):
        # Forward projection
        projections = np.zeros((num_projections, num_detectors))

        for i, angle in enumerate(theta):
            rotated_image = rotate(estimated_image, angle, reshape=False, order=1)
            projection = np.sum(rotated_image, axis=0)

            if projection.shape[0] > num_detectors:
                projection = projection[:num_detectors]
            elif projection.shape[0] < num_detectors:
                projection = np.pad(projection, (0, num_detectors - projection.shape[0]), 'constant')

            projections[i, :] = projection

        # Compute error
        error = sinogram - projections
        max_error = np.max(np.abs(error))

        print(f"Iteration {iteration + 1}/{num_iterations} - Max error: {max_error}")

        # Early stopping if error change is below the tolerance
        if np.abs(previous_error - max_error) < tolerance:
            print(f"Convergence reached at iteration {iteration + 1}")
            break

        previous_error = max_error

        # Backproject the error
        backprojected_error = np.zeros_like(estimated_image)
        for i, angle in enumerate(theta):
            expanded_error = np.zeros_like(estimated_image)
            expanded_error[:, :num_detectors] = error[i, :].reshape(-1, num_detectors)
            rotated_error = rotate(expanded_error, -angle, reshape=False, order=1)
            backprojected_error += rotated_error

        # Normalize the backprojected error to avoid excessive accumulation
        if np.max(np.abs(backprojected_error)) != 0:
            backprojected_error /= np.max(np.abs(backprojected_error))

        # Apply gradient descent update
        estimated_image += learning_rate * (backprojected_error / num_projections)
        estimated_image = np.maximum(estimated_image, 0)  # Apply non-negativity constraint

    return estimated_image

def make_sino(phantom, theta):
    sinogram = radon(phantom, theta=theta, circle=True)
    return np.rot90(sinogram, 1)

# Example usage
if __name__ == "__main__":
    # Generate a foam-like phantom for demonstration
    size = 128
    num_disks = 30
    phantom = make_phantom(size, num_disks)

    num_projections = 16  # Choose a number of projections < size of the image

    theta = EST_Angles(num_projections)
    sinogram = make_sino(phantom, theta)

    # Perform EST reconstruction
    reconstructed_image_est = EST_reco(sinogram, theta, num_iterations=500, learning_rate=0.0005)

    # Perform FBP reconstruction
    reconstructed_image_fbp = iradon(np.rot90(sinogram, -1), theta=theta, circle=True)

    # Plot results
    plt.figure(figsize=(18, 6))
    plt.subplot(1, 4, 1)
    plt.title("Foam-like Phantom")
    plt.imshow(phantom, cmap='gray')
    plt.axis('off')

    plt.subplot(1, 4, 2)
    plt.title("Sinogram")
    plt.imshow(sinogram, cmap='gray', aspect='auto')
    plt.axis('off')

    plt.subplot(1, 4, 3)
    plt.title("Reconstructed Image (EST)")
    plt.imshow(reconstructed_image_est, cmap='gray')
    plt.axis('off')

    plt.subplot(1, 4, 4)
    plt.title("Reconstructed Image (FBP)")
    plt.imshow(reconstructed_image_fbp, cmap='gray')
    plt.axis('off')

    plt.show()
